{
 "cells": [
  {
   "cell_type": "markdown",
   "id": "f8c014d4",
   "metadata": {},
   "source": [
    "### 7.1 Books\n",
    "\n",
    "1. The Elements of Statistical Learning - Trevor Hastie, Robert Tibshirani, Jerome H. Friedman\n",
    "\n",
    "2. Business Statistics: For Contemporary Decision Making - Ken Black\n",
    "\n",
    "3. The Hundred-Page Machine Learning Book - Andriy Burkov\n",
    "\n",
    "4. Hands-On Machine Learning with Scikit-Learn, Keras, and TensorFlow - Aurélien Géron\n",
    "\n",
    "5. Introduction to Data Mining - Michael Steinbach, Pang-Ning Tan, and Vipin Kumar"
   ]
  },
  {
   "cell_type": "markdown",
   "id": "587074f0",
   "metadata": {},
   "source": [
    "### 7.2 Youtube Channels\n",
    "\n",
    "1. Statistical Concepts - StatQuest with Josh Starmer\n",
    "\n",
    "2. Linear Algebra and Other Mathematical Concepts - 3Blue1Brown\n",
    "\n",
    "3. Machine Leanring COncepts and Implementation - Krish Naik\n",
    "\n",
    "4. Oil & Gas AI/ML Applications - Ruslan Miftakhov"
   ]
  },
  {
   "cell_type": "markdown",
   "id": "62121bbf",
   "metadata": {},
   "source": [
    "### 7.3 Platform"
   ]
  },
  {
   "cell_type": "markdown",
   "id": "6f3cd1a9",
   "metadata": {},
   "source": [
    "1. Python, SQL Practice - Hackerrank\n",
    "2. ML Use Cases Practice - Kaggle"
   ]
  }
 ],
 "metadata": {
  "kernelspec": {
   "display_name": "Python 3 (ipykernel)",
   "language": "python",
   "name": "python3"
  },
  "language_info": {
   "codemirror_mode": {
    "name": "ipython",
    "version": 3
   },
   "file_extension": ".py",
   "mimetype": "text/x-python",
   "name": "python",
   "nbconvert_exporter": "python",
   "pygments_lexer": "ipython3",
   "version": "3.10.8"
  }
 },
 "nbformat": 4,
 "nbformat_minor": 5
}
